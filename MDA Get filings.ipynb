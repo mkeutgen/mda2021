{
 "cells": [
  {
   "cell_type": "code",
   "execution_count": 1,
   "metadata": {},
   "outputs": [],
   "source": [
    "from sec_edgar_downloader import Downloader\n",
    "loader = Downloader()"
   ]
  },
  {
   "cell_type": "markdown",
   "metadata": {},
   "source": [
    "Importing the filings"
   ]
  },
  {
   "cell_type": "code",
   "execution_count": 2,
   "metadata": {},
   "outputs": [
    {
     "name": "stdout",
     "output_type": "stream",
     "text": [
      "Skipping filing detail download for '0000932471-01-000549' due to network error: 404 Client Error: Not Found for url: https://www.sec.gov/Archives/edgar/data/0000102909/000093247101000549/0001.txt.\n",
      "Skipping filing detail download for '0000932471-01-000025' due to network error: 404 Client Error: Not Found for url: https://www.sec.gov/Archives/edgar/data/0000102909/000093247101000025/0001.txt.\n",
      "Skipping filing detail download for '0000932471-00-000734' due to network error: 404 Client Error: Not Found for url: https://www.sec.gov/Archives/edgar/data/0000102909/000093247100000734/0001.txt.\n",
      "Skipping filing detail download for '0000932471-00-000610' due to network error: 404 Client Error: Not Found for url: https://www.sec.gov/Archives/edgar/data/0000102909/000093247100000610/0001.txt.\n"
     ]
    },
    {
     "data": {
      "text/plain": [
       "77"
      ]
     },
     "execution_count": 2,
     "metadata": {},
     "output_type": "execute_result"
    }
   ],
   "source": [
    "loader.get(\"13F-HR\", \"0000102909\")"
   ]
  },
  {
   "cell_type": "markdown",
   "metadata": {},
   "source": [
    "Importing filings for Tesla, Coinbase and MicroStrategy (3 cryptocurrencies-related funds):"
   ]
  },
  {
   "cell_type": "code",
   "execution_count": 3,
   "metadata": {},
   "outputs": [
    {
     "data": {
      "text/plain": [
       "0"
      ]
     },
     "execution_count": 3,
     "metadata": {},
     "output_type": "execute_result"
    }
   ],
   "source": [
    "loader.get(\"13F-HR\",\"0001318605\")\n",
    "loader.get(\"13F-HR\",\"0001679788\")\n",
    "loader.get(\"13F-HR\",\"0001050446\") "
   ]
  },
  {
   "cell_type": "code",
   "execution_count": null,
   "metadata": {},
   "outputs": [],
   "source": []
  }
 ],
 "metadata": {
  "kernelspec": {
   "display_name": "Python 3",
   "language": "python",
   "name": "python3"
  },
  "language_info": {
   "codemirror_mode": {
    "name": "ipython",
    "version": 3
   },
   "file_extension": ".py",
   "mimetype": "text/x-python",
   "name": "python",
   "nbconvert_exporter": "python",
   "pygments_lexer": "ipython3",
   "version": "3.7.6"
  }
 },
 "nbformat": 4,
 "nbformat_minor": 4
}
