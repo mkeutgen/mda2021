{
 "cells": [
  {
   "cell_type": "code",
   "execution_count": 2,
   "metadata": {},
   "outputs": [],
   "source": [
    "from sec_edgar_downloader import Downloader\n",
    "loader = Downloader()\n",
    "import pandas as pd"
   ]
  },
  {
   "cell_type": "markdown",
   "metadata": {},
   "source": [
    "Importing the filings"
   ]
  },
  {
   "cell_type": "code",
   "execution_count": 2,
   "metadata": {},
   "outputs": [
    {
     "name": "stdout",
     "output_type": "stream",
     "text": [
      "Skipping filing detail download for '0000932471-01-000549' due to network error: 404 Client Error: Not Found for url: https://www.sec.gov/Archives/edgar/data/0000102909/000093247101000549/0001.txt.\n",
      "Skipping filing detail download for '0000932471-01-000025' due to network error: 404 Client Error: Not Found for url: https://www.sec.gov/Archives/edgar/data/0000102909/000093247101000025/0001.txt.\n",
      "Skipping filing detail download for '0000932471-00-000734' due to network error: 404 Client Error: Not Found for url: https://www.sec.gov/Archives/edgar/data/0000102909/000093247100000734/0001.txt.\n",
      "Skipping filing detail download for '0000932471-00-000610' due to network error: 404 Client Error: Not Found for url: https://www.sec.gov/Archives/edgar/data/0000102909/000093247100000610/0001.txt.\n"
     ]
    },
    {
     "data": {
      "text/plain": [
       "77"
      ]
     },
     "execution_count": 2,
     "metadata": {},
     "output_type": "execute_result"
    }
   ],
   "source": [
    "loader.get(\"13F-HR\", \"0000102909\")"
   ]
  },
  {
   "cell_type": "markdown",
   "metadata": {},
   "source": [
    "Importing filings for Tesla, Coinbase and MicroStrategy (3 cryptocurrencies-related funds):"
   ]
  },
  {
   "cell_type": "code",
   "execution_count": 4,
   "metadata": {},
   "outputs": [],
   "source": [
    "df = pd.read_csv(\"secv1.csv\")"
   ]
  },
  {
   "cell_type": "code",
   "execution_count": 5,
   "metadata": {},
   "outputs": [
    {
     "name": "stdout",
     "output_type": "stream",
     "text": [
      "                                                 entity      cusip      cik  \\\n",
      "0     0001424322    Cubic Asset Management, LLC\\nNam...   49164205  1424322   \n",
      "1     0001558481    Arizona State Retirement System\\...  03823U102  1558481   \n",
      "2     0001558481    Arizona State Retirement System\\...     360206  1558481   \n",
      "3     0001748766    Brand Asset Management Group, In...   37833100  1748766   \n",
      "4     0001558481    Arizona State Retirement System\\...   24013104  1558481   \n",
      "...                                                 ...        ...      ...   \n",
      "4534  0001699622    ACCESS FINANCIAL SERVICES, INC.\\...  67062F100  1699622   \n",
      "4535  0001699622    ACCESS FINANCIAL SERVICES, INC.\\...  19247R103  1699622   \n",
      "4536  0001699622    ACCESS FINANCIAL SERVICES, INC.\\...  46132L107  1699622   \n",
      "4537  0001759803    Graves-Light Private Wealth Mana...  95766B109  1759803   \n",
      "4538  0001748766    Brand Asset Management Group, In...  464286822  1748766   \n",
      "\n",
      "            date tickercusip                  nameOfIssuer  shares    value  \n",
      "0      6/30/2020       4205R  ATLAS AIR WORLDWIDE HOLDINGS   74123  3190000  \n",
      "1     12/31/2019        AAOI   APPLIED OPTOELECTRONICS INC   12745   151000  \n",
      "2      6/30/2020        AAON                      AAON INC    9406   511000  \n",
      "3      6/30/2020        AAPL                     APPLE INC     910   332000  \n",
      "4      6/30/2020         AAT     AMERICAN ASSETS TRUST INC   11524   321000  \n",
      "...          ...         ...                           ...     ...      ...  \n",
      "4534   6/30/2020         NXP  NUVEEN SELECT TAX-FREE INCOM  173610  2722000  \n",
      "4535   6/30/2020         RFI   COHEN & STEERS TOTAL RETURN   96823  1192000  \n",
      "4536   6/30/2020         VBF                 INVESCO BD FD   33545   672000  \n",
      "4537   6/30/2020         EHI  WESTERN ASSET GLOBAL HIGH IN   10700    99000  \n",
      "4538   6/30/2020         EWW                   ISHARES INC    1441    46000  \n",
      "\n",
      "[4539 rows x 8 columns]\n"
     ]
    }
   ],
   "source": [
    "print(df)"
   ]
  }
 ],
 "metadata": {
  "kernelspec": {
   "display_name": "Python 3",
   "language": "python",
   "name": "python3"
  },
  "language_info": {
   "codemirror_mode": {
    "name": "ipython",
    "version": 3
   },
   "file_extension": ".py",
   "mimetype": "text/x-python",
   "name": "python",
   "nbconvert_exporter": "python",
   "pygments_lexer": "ipython3",
   "version": "3.7.6"
  }
 },
 "nbformat": 4,
 "nbformat_minor": 4
}
